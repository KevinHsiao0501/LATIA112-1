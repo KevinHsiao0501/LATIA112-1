{
  "nbformat": 4,
  "nbformat_minor": 0,
  "metadata": {
    "colab": {
      "provenance": []
    },
    "kernelspec": {
      "name": "python3",
      "display_name": "Python 3"
    },
    "language_info": {
      "name": "python"
    }
  },
  "cells": [
    {
      "cell_type": "code",
      "execution_count": null,
      "metadata": {
        "colab": {
          "base_uri": "https://localhost:8080/"
        },
        "id": "MGJUGXITYEqk",
        "outputId": "ea003f31-3434-4339-84b0-420b3748cf3d"
      },
      "outputs": [
        {
          "output_type": "stream",
          "name": "stdout",
          "text": [
            "Mounted at /content/gdrive/\n",
            "-rw------- 1 root root 92484 Feb 27 06:27 '/content/gdrive/My Drive/112-2LATIA/Week2/112_student.csv'\n"
          ]
        }
      ],
      "source": [
        "from google.colab import drive\n",
        "drive.mount('/content/gdrive/', force_remount=True)\n",
        "\n",
        "import os\n",
        "os.chdir(\"/content/gdrive/My Drive/\")\n",
        "!ls -l \"/content/gdrive/My Drive/112-2LATIA/Week2/112_student.csv\"\n",
        "#!ls -l \"自行填寫正確的路徑\""
      ]
    },
    {
      "cell_type": "markdown",
      "source": [],
      "metadata": {
        "id": "BWRJLRn3nN2j"
      }
    },
    {
      "cell_type": "markdown",
      "source": [],
      "metadata": {
        "id": "x2O1XYSYnQQ5"
      }
    },
    {
      "cell_type": "code",
      "source": [
        "import pandas as pd\n",
        "\n",
        "csv_file = \"/content/gdrive/My Drive/112-2LATIA/Week2/112_student.csv\"\n",
        "\n",
        "df = pd.read_csv(csv_file)"
      ],
      "metadata": {
        "id": "eaaLcEXDYctP"
      },
      "execution_count": null,
      "outputs": []
    },
    {
      "cell_type": "markdown",
      "source": [
        "**1.哪間大專院校有最多的學士生**"
      ],
      "metadata": {
        "id": "Vto4QPu9ZwPB"
      }
    },
    {
      "cell_type": "code",
      "source": [
        "df1 = df[['總計']] # 取出想要觀看的欄位\n",
        "print(\"本資料集共有\", df1, \"筆紀錄\")\n",
        "\n",
        "df1_1 = df1[df['等級別'] == 'B 學士']\n",
        "print(\"有招生學士學制的學校數量為\", len(df1_1), \"\\n\")\n",
        "\n",
        "df1_1_sorted = df1_1.sort_values(by='總計', ascending=False)\n",
        "print(\"112學年度在籍的學士生最多人數之學校為\", df1_1_sorted.head(1)['總計'].values)"
      ],
      "metadata": {
        "colab": {
          "base_uri": "https://localhost:8080/"
        },
        "id": "-_OOP7_sZ0SP",
        "outputId": "35a6391e-e7e1-4d29-e0b7-657815e78770"
      },
      "execution_count": null,
      "outputs": [
        {
          "output_type": "stream",
          "name": "stdout",
          "text": [
            "本資料集共有        總計\n",
            "0     921\n",
            "1    4231\n",
            "2    1903\n",
            "3    9763\n",
            "4    1636\n",
            "..    ...\n",
            "759  3017\n",
            "760   208\n",
            "761  1330\n",
            "762  1248\n",
            "763  5275\n",
            "\n",
            "[764 rows x 1 columns] 筆紀錄\n",
            "有招生學士學制的學校數量為 97 \n",
            "\n",
            "112學年度在籍的學士生最多人數之學校為 [19466]\n"
          ]
        }
      ]
    },
    {
      "cell_type": "markdown",
      "source": [
        "2. **國立？所；私立？所**"
      ],
      "metadata": {
        "id": "icmpo-b6eelz"
      }
    },
    {
      "cell_type": "code",
      "source": [
        "type_list = [] # 建立空字串\n",
        "\n",
        "for i in df['學校名稱']:\n",
        "    if ('國立' in i) or ('市立' in i):\n",
        "        type_list.append('公立')\n",
        "    else:\n",
        "        type_list.append('私立')\n",
        "\n",
        "df['公私立'] = type_list # 將 Dataframe 新增「公私立」column\n",
        "\n",
        "df2 = df.drop_duplicates(subset='學校代碼')\n",
        "count = df2['公私立'].value_counts()\n",
        "\n",
        "print(df2)\n",
        "print(f\"本資料集共收集了 {len(df2)} 所學校，其中公立：{count['公立']} 所；私立：{count['私立']} 所。\")"
      ],
      "metadata": {
        "colab": {
          "base_uri": "https://localhost:8080/"
        },
        "id": "1f8816ldej_0",
        "outputId": "a1275d87-1c1a-4874-8552-7799547a3fe6"
      },
      "execution_count": null,
      "outputs": [
        {
          "output_type": "stream",
          "name": "stdout",
          "text": [
            "     學年度  學校代碼        學校名稱 日間∕進修別   等級別    總計   男生計   女生計  一年級男  一年級女  ...  \\\n",
            "0    112     1      國立政治大學    D 日  D 博士   921   517   404    86    69  ...   \n",
            "4    112     2      國立清華大學    D 日  D 博士  1636  1131   505   206    93  ...   \n",
            "9    112     3      國立臺灣大學    D 日  D 博士  3654  2454  1200   431   215  ...   \n",
            "13   112     4    國立臺灣師範大學    D 日  D 博士  1337   630   707   106   127  ...   \n",
            "17   112     5      國立成功大學    D 日  D 博士  1888  1228   660   219   136  ...   \n",
            "..   ...   ...         ...    ...   ...   ...   ...   ...   ...   ...  ...   \n",
            "753  112  1289  育英醫護管理專科學校    D 日  5 五專  1833   200  1633    39   343  ...   \n",
            "754  112  1291  聖母醫護管理專科學校    D 日  2 二專     2     2     0     0     0  ...   \n",
            "757  112  1292  新生醫護管理專科學校    N 修  2 二專    79    12    67     7    37  ...   \n",
            "759  112  1293  崇仁醫護管理專科學校    D 日  5 五專  3017   460  2557   112   515  ...   \n",
            "760  112  3002      臺北市立大學    D 日  D 博士   208    94   114    17    11  ...   \n",
            "\n",
            "     五年級女  六年級男  六年級女  七年級男  七年級女  延修生男  延修生女    縣市名稱   體系別  公私立  \n",
            "0      52    68    37    66    50     0     0  30 臺北市  1 一般   公立  \n",
            "4      60   110    50   115    56     0     0  18 新竹市  1 一般   公立  \n",
            "9     128   179   106   312   132     0     0  30 臺北市  1 一般   公立  \n",
            "13     83    59    85    87    89     0     0  30 臺北市  3 師範   公立  \n",
            "17     84   107    57   110    48     0     0  21 臺南市  1 一般   公立  \n",
            "..    ...   ...   ...   ...   ...   ...   ...     ...   ...  ...  \n",
            "753   276     0     0     0     0    13    77  50 高雄市  2 技職   私立  \n",
            "754     0     0     0     0     0     2     0  02 宜蘭縣  2 技職   私立  \n",
            "757     0     0     0     0     0     0     1  03 桃園市  2 技職   私立  \n",
            "759   529     0     0     0     0    19    45  10 嘉義縣  2 技職   私立  \n",
            "760    14     6     9    16    25     0     0  30 臺北市  1 一般   公立  \n",
            "\n",
            "[145 rows x 27 columns]\n",
            "本資料集共收集了 145 所學校，其中公立：47 所；私立：98 所。\n"
          ]
        }
      ]
    },
    {
      "cell_type": "markdown",
      "source": [
        "3. **各等級別學制共有？所**"
      ],
      "metadata": {
        "id": "QWqaprcIhFSz"
      }
    },
    {
      "cell_type": "code",
      "source": [
        "df3 = df.drop_duplicates(subset=['學校名稱', '等級別'])\n",
        "\n",
        "counts = df3['等級別'].value_counts()\n",
        "\n",
        "degree_list = list(df['等級別'].unique())\n",
        "\n",
        "print(f\"本資料集總共收集了 {len(set(df3['學校名稱']))} 所學校，各等級學制當中：\")\n",
        "\n",
        "for degree in degree_list:\n",
        "    print(f\"一共有{counts[degree]} 所學校， 有招收{degree}。\")\n"
      ],
      "metadata": {
        "colab": {
          "base_uri": "https://localhost:8080/"
        },
        "id": "OPGNWbZ4hHjr",
        "outputId": "28d11257-332f-4011-8fdd-26d961cac7b9"
      },
      "execution_count": null,
      "outputs": [
        {
          "output_type": "stream",
          "name": "stdout",
          "text": [
            "本資料集總共收集了 145 所學校，各等級學制當中：\n",
            "一共有84 所學校， 有招收D 博士。\n",
            "一共有130 所學校， 有招收M 碩士。\n",
            "一共有67 所學校， 有招收B 學士。\n",
            "一共有1 所學校， 有招收X 4+X。\n",
            "一共有71 所學校， 有招收C 二技。\n",
            "一共有66 所學校， 有招收B 四技。\n",
            "一共有46 所學校， 有招收5 五專。\n",
            "一共有2 所學校， 有招收5 七年。\n",
            "一共有46 所學校， 有招收2 二專。\n",
            "一共有1 所學校， 有招收C 二年制。\n"
          ]
        }
      ]
    },
    {
      "cell_type": "markdown",
      "source": [
        "**Week2提出的問題:師範體系的有幾人?**"
      ],
      "metadata": {
        "id": "lkZxTGGGnTJs"
      }
    },
    {
      "cell_type": "code",
      "source": [
        "type_list = [] # 建立空字串\n",
        "\n",
        "for i in df['學校名稱']:\n",
        "    if ('師範' in i):\n",
        "        type_list.append('師範大學')\n",
        "    else:\n",
        "        type_list.append('普通大學')\n",
        "\n",
        "df['師範體系'] = type_list # 將 Dataframe 新增「公私立」column\n",
        "\n",
        "df4 = df.drop_duplicates(subset='學校代碼')\n",
        "count = df4['師範體系'].value_counts()\n",
        "\n",
        "\n",
        "print(f\"本資料集共收集了 {len(df4)} 所學校，其中師範體系：{count['師範大學']} 所；非師範體系：{count['普通大學']} 所。\")"
      ],
      "metadata": {
        "colab": {
          "base_uri": "https://localhost:8080/"
        },
        "id": "8usA8ke1ncyS",
        "outputId": "a879939e-6060-4f94-f903-e31255ed1aaf"
      },
      "execution_count": null,
      "outputs": [
        {
          "output_type": "stream",
          "name": "stdout",
          "text": [
            "本資料集共收集了 145 所學校，其中師範體系：3 所；非師範體系：142 所。\n"
          ]
        }
      ]
    }
  ]
}
